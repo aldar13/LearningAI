{
 "cells": [
  {
   "cell_type": "code",
   "execution_count": 1,
   "metadata": {},
   "outputs": [
    {
     "name": "stderr",
     "output_type": "stream",
     "text": [
      "Using TensorFlow backend.\n"
     ]
    }
   ],
   "source": [
    "from keras.datasets import reuters"
   ]
  },
  {
   "cell_type": "code",
   "execution_count": 2,
   "metadata": {},
   "outputs": [
    {
     "name": "stdout",
     "output_type": "stream",
     "text": [
      "Downloading data from https://s3.amazonaws.com/text-datasets/reuters.npz\n",
      "2113536/2110848 [==============================] - 1s 0us/step\n"
     ]
    }
   ],
   "source": [
    "(train_data, train_labels), (test_data, test_labels) = reuters.load_data(num_words = 10000)"
   ]
  },
  {
   "cell_type": "code",
   "execution_count": 3,
   "metadata": {},
   "outputs": [
    {
     "data": {
      "text/plain": [
       "8982"
      ]
     },
     "execution_count": 3,
     "metadata": {},
     "output_type": "execute_result"
    }
   ],
   "source": [
    "len(train_data)"
   ]
  },
  {
   "cell_type": "code",
   "execution_count": 4,
   "metadata": {},
   "outputs": [
    {
     "data": {
      "text/plain": [
       "2246"
      ]
     },
     "execution_count": 4,
     "metadata": {},
     "output_type": "execute_result"
    }
   ],
   "source": [
    "len(test_data)"
   ]
  },
  {
   "cell_type": "code",
   "execution_count": 5,
   "metadata": {},
   "outputs": [],
   "source": [
    "decode_index = 10"
   ]
  },
  {
   "cell_type": "code",
   "execution_count": 7,
   "metadata": {},
   "outputs": [
    {
     "name": "stdout",
     "output_type": "stream",
     "text": [
      "Downloading data from https://s3.amazonaws.com/text-datasets/reuters_word_index.json\n",
      "557056/550378 [==============================] - 1s 1us/step\n"
     ]
    }
   ],
   "source": [
    "word_index = reuters.get_word_index()\n",
    "reverse_word_index = dict([(value, key) for (key, value) in word_index.items()])\n",
    "decoded_newswire = ''.join([reverse_word_index.get(i - 3, '?') for i in\n",
    "    train_data[decode_index]])"
   ]
  },
  {
   "cell_type": "code",
   "execution_count": 8,
   "metadata": {},
   "outputs": [
    {
     "data": {
      "text/plain": [
       "'?periodendeddecember31shrprofit11ctsvsloss24ctsnetprofit224271vsloss511349revs7258688vs7200349reuter3'"
      ]
     },
     "execution_count": 8,
     "metadata": {},
     "output_type": "execute_result"
    }
   ],
   "source": [
    "decoded_newswire"
   ]
  },
  {
   "cell_type": "code",
   "execution_count": 11,
   "metadata": {},
   "outputs": [
    {
     "data": {
      "text/plain": [
       "8982"
      ]
     },
     "execution_count": 11,
     "metadata": {},
     "output_type": "execute_result"
    }
   ],
   "source": [
    "len(train_data)"
   ]
  },
  {
   "cell_type": "code",
   "execution_count": 18,
   "metadata": {},
   "outputs": [],
   "source": [
    "import numpy as np\n",
    "\n",
    "def vectorize_sequences(sequences, dimension=10000):\n",
    "    results = np.zeros((len(sequences), dimension))\n",
    "    for i, sequence in enumerate(sequences):\n",
    "        results[i, sequence] = 1\n",
    "    return results"
   ]
  },
  {
   "cell_type": "code",
   "execution_count": 48,
   "metadata": {},
   "outputs": [],
   "source": [
    "x_train = vectorize_sequences(train_data)\n",
    "x_test = vectorize_sequences(test_data)"
   ]
  },
  {
   "cell_type": "code",
   "execution_count": 20,
   "metadata": {},
   "outputs": [],
   "source": [
    "y_train = vectorize_sequences(train_labels)"
   ]
  },
  {
   "cell_type": "code",
   "execution_count": 21,
   "metadata": {},
   "outputs": [],
   "source": [
    "def to_one_hot(labels, dimension=46):\n",
    "    results = np.zeros((len(labels), dimension))\n",
    "    for i, label in enumerate(labels):\n",
    "        results[i, label] = 1\n",
    "    return results"
   ]
  },
  {
   "cell_type": "code",
   "execution_count": 24,
   "metadata": {},
   "outputs": [],
   "source": [
    "\n",
    "one_hot_train_labels = to_one_hot(train_labels)"
   ]
  },
  {
   "cell_type": "code",
   "execution_count": 25,
   "metadata": {},
   "outputs": [],
   "source": [
    "one_hot_test_labels = to_one_hot(test_labels)"
   ]
  },
  {
   "cell_type": "code",
   "execution_count": 26,
   "metadata": {},
   "outputs": [],
   "source": [
    "from keras import models"
   ]
  },
  {
   "cell_type": "code",
   "execution_count": 27,
   "metadata": {},
   "outputs": [],
   "source": [
    "from keras import layers"
   ]
  },
  {
   "cell_type": "code",
   "execution_count": 28,
   "metadata": {},
   "outputs": [],
   "source": [
    "model = models.Sequential()"
   ]
  },
  {
   "cell_type": "code",
   "execution_count": 29,
   "metadata": {},
   "outputs": [],
   "source": [
    "model.add(layers.Dense(64, activation='relu', input_shape=(10000,)))"
   ]
  },
  {
   "cell_type": "code",
   "execution_count": 30,
   "metadata": {},
   "outputs": [],
   "source": [
    "model.add(layers.Dense(64, activation='relu'))"
   ]
  },
  {
   "cell_type": "markdown",
   "metadata": {},
   "source": []
  },
  {
   "cell_type": "code",
   "execution_count": 31,
   "metadata": {},
   "outputs": [],
   "source": [
    "model.add(layers.Dense(46, activation='softmax'))"
   ]
  },
  {
   "cell_type": "code",
   "execution_count": 32,
   "metadata": {},
   "outputs": [],
   "source": [
    "model.compile(optimizer='rmsprop',\n",
    "             loss='categorical_crossentropy',\n",
    "             metrics=['accuracy'])"
   ]
  },
  {
   "cell_type": "code",
   "execution_count": 33,
   "metadata": {},
   "outputs": [],
   "source": [
    "x_val = x_train[:1000]\n",
    "partial_x_train = x_train[1000:]"
   ]
  },
  {
   "cell_type": "code",
   "execution_count": 34,
   "metadata": {},
   "outputs": [],
   "source": [
    "y_val=one_hot_train_labels[:1000]\n",
    "partial_y_train=one_hot_train_labels[1000:]"
   ]
  },
  {
   "cell_type": "code",
   "execution_count": 35,
   "metadata": {},
   "outputs": [
    {
     "name": "stdout",
     "output_type": "stream",
     "text": [
      "Train on 7982 samples, validate on 1000 samples\n",
      "Epoch 1/20\n",
      "7982/7982 [==============================] - 2s 302us/step - loss: 2.5574 - accuracy: 0.5549 - val_loss: 1.7019 - val_accuracy: 0.6470\n",
      "Epoch 2/20\n",
      "7982/7982 [==============================] - 1s 111us/step - loss: 1.3843 - accuracy: 0.7072 - val_loss: 1.2845 - val_accuracy: 0.7160\n",
      "Epoch 3/20\n",
      "7982/7982 [==============================] - 1s 113us/step - loss: 1.0179 - accuracy: 0.7845 - val_loss: 1.1115 - val_accuracy: 0.7740\n",
      "Epoch 4/20\n",
      "7982/7982 [==============================] - 1s 126us/step - loss: 0.7892 - accuracy: 0.8341 - val_loss: 1.0042 - val_accuracy: 0.7950\n",
      "Epoch 5/20\n",
      "7982/7982 [==============================] - 1s 135us/step - loss: 0.6227 - accuracy: 0.8682 - val_loss: 0.9567 - val_accuracy: 0.8040\n",
      "Epoch 6/20\n",
      "7982/7982 [==============================] - 1s 116us/step - loss: 0.4929 - accuracy: 0.8999 - val_loss: 0.9166 - val_accuracy: 0.8070\n",
      "Epoch 7/20\n",
      "7982/7982 [==============================] - 1s 120us/step - loss: 0.3942 - accuracy: 0.9181 - val_loss: 0.9140 - val_accuracy: 0.8180\n",
      "Epoch 8/20\n",
      "7982/7982 [==============================] - 1s 147us/step - loss: 0.3191 - accuracy: 0.9313 - val_loss: 0.8829 - val_accuracy: 0.8190\n",
      "Epoch 9/20\n",
      "7982/7982 [==============================] - 1s 144us/step - loss: 0.2651 - accuracy: 0.9394 - val_loss: 0.9273 - val_accuracy: 0.8080\n",
      "Epoch 10/20\n",
      "7982/7982 [==============================] - 1s 136us/step - loss: 0.2320 - accuracy: 0.9473 - val_loss: 0.9250 - val_accuracy: 0.8160\n",
      "Epoch 11/20\n",
      "7982/7982 [==============================] - 1s 140us/step - loss: 0.1942 - accuracy: 0.9501 - val_loss: 0.9603 - val_accuracy: 0.8050\n",
      "Epoch 12/20\n",
      "7982/7982 [==============================] - 1s 136us/step - loss: 0.1782 - accuracy: 0.9510 - val_loss: 0.9562 - val_accuracy: 0.8180\n",
      "Epoch 13/20\n",
      "7982/7982 [==============================] - 1s 130us/step - loss: 0.1554 - accuracy: 0.9565 - val_loss: 0.9962 - val_accuracy: 0.8100\n",
      "Epoch 14/20\n",
      "7982/7982 [==============================] - 1s 107us/step - loss: 0.1449 - accuracy: 0.9558 - val_loss: 0.9896 - val_accuracy: 0.8180\n",
      "Epoch 15/20\n",
      "7982/7982 [==============================] - 1s 118us/step - loss: 0.1377 - accuracy: 0.9559 - val_loss: 0.9947 - val_accuracy: 0.8150\n",
      "Epoch 16/20\n",
      "7982/7982 [==============================] - 1s 117us/step - loss: 0.1282 - accuracy: 0.9560 - val_loss: 1.0107 - val_accuracy: 0.8160\n",
      "Epoch 17/20\n",
      "7982/7982 [==============================] - 1s 114us/step - loss: 0.1219 - accuracy: 0.9564 - val_loss: 1.0329 - val_accuracy: 0.8210\n",
      "Epoch 18/20\n",
      "7982/7982 [==============================] - 1s 115us/step - loss: 0.1227 - accuracy: 0.9569 - val_loss: 1.1041 - val_accuracy: 0.8020\n",
      "Epoch 19/20\n",
      "7982/7982 [==============================] - 1s 119us/step - loss: 0.1143 - accuracy: 0.9565 - val_loss: 1.0868 - val_accuracy: 0.8050\n",
      "Epoch 20/20\n",
      "7982/7982 [==============================] - 1s 118us/step - loss: 0.1139 - accuracy: 0.9567 - val_loss: 1.0722 - val_accuracy: 0.8130\n"
     ]
    }
   ],
   "source": [
    "history = model.fit(partial_x_train,\n",
    "                   partial_y_train,\n",
    "                   epochs=20,\n",
    "                   batch_size=512,\n",
    "                   validation_data=(x_val, y_val))"
   ]
  },
  {
   "cell_type": "code",
   "execution_count": 36,
   "metadata": {},
   "outputs": [],
   "source": [
    "import matplotlib.pyplot as plt"
   ]
  },
  {
   "cell_type": "code",
   "execution_count": 37,
   "metadata": {},
   "outputs": [],
   "source": [
    "loss = history.history['loss']"
   ]
  },
  {
   "cell_type": "code",
   "execution_count": 38,
   "metadata": {},
   "outputs": [
    {
     "data": {
      "text/plain": [
       "20"
      ]
     },
     "execution_count": 38,
     "metadata": {},
     "output_type": "execute_result"
    }
   ],
   "source": [
    "len(loss)"
   ]
  },
  {
   "cell_type": "code",
   "execution_count": 39,
   "metadata": {},
   "outputs": [
    {
     "data": {
      "text/plain": [
       "2.557395751779165"
      ]
     },
     "execution_count": 39,
     "metadata": {},
     "output_type": "execute_result"
    }
   ],
   "source": [
    "loss[0]"
   ]
  },
  {
   "cell_type": "code",
   "execution_count": 40,
   "metadata": {},
   "outputs": [],
   "source": [
    "val_loss = history.history['val_loss']"
   ]
  },
  {
   "cell_type": "code",
   "execution_count": 42,
   "metadata": {},
   "outputs": [],
   "source": [
    "epochs = range(1, len(loss)+1)"
   ]
  },
  {
   "cell_type": "code",
   "execution_count": 44,
   "metadata": {},
   "outputs": [
    {
     "data": {
      "image/png": "[encoded data removed]",
      "text/plain": [
       "<Figure size 432x288 with 1 Axes>"
      ]
     },
     "metadata": {
      "needs_background": "light"
     },
     "output_type": "display_data"
    }
   ],
   "source": [
    "plt.plot(epochs, loss, 'bo', label='Training loss')\n",
    "plt.plot(epochs, val_loss, 'b', label='Validation loss')\n",
    "plt.title('Training and validation loss')\n",
    "plt.xlabel('Epochs')\n",
    "plt.ylabel('Loss')\n",
    "plt.legend()\n",
    "plt.show()"
   ]
  },
  {
   "cell_type": "code",
   "execution_count": 50,
   "metadata": {},
   "outputs": [
    {
     "name": "stdout",
     "output_type": "stream",
     "text": [
      "Train on 7982 samples, validate on 1000 samples\n",
      "Epoch 1/9\n",
      "7982/7982 [==============================] - 2s 239us/step - loss: 1.9686 - accuracy: 0.5864 - val_loss: 1.2388 - val_accuracy: 0.7060\n",
      "Epoch 2/9\n",
      "7982/7982 [==============================] - 2s 210us/step - loss: 0.9664 - accuracy: 0.7854 - val_loss: 1.0341 - val_accuracy: 0.7820\n",
      "Epoch 3/9\n",
      "7982/7982 [==============================] - 2s 196us/step - loss: 0.6270 - accuracy: 0.8677 - val_loss: 0.9225 - val_accuracy: 0.7990\n",
      "Epoch 4/9\n",
      "7982/7982 [==============================] - 2s 212us/step - loss: 0.4245 - accuracy: 0.9070 - val_loss: 0.8671 - val_accuracy: 0.8180\n",
      "Epoch 5/9\n",
      "7982/7982 [==============================] - 2s 204us/step - loss: 0.2977 - accuracy: 0.9327 - val_loss: 0.8426 - val_accuracy: 0.8270\n",
      "Epoch 6/9\n",
      "7982/7982 [==============================] - 2s 202us/step - loss: 0.2504 - accuracy: 0.9395 - val_loss: 0.8530 - val_accuracy: 0.8330\n",
      "Epoch 7/9\n",
      "7982/7982 [==============================] - 2s 209us/step - loss: 0.1897 - accuracy: 0.9524 - val_loss: 0.9832 - val_accuracy: 0.8100\n",
      "Epoch 8/9\n",
      "7982/7982 [==============================] - 2s 228us/step - loss: 0.1607 - accuracy: 0.9545 - val_loss: 0.9091 - val_accuracy: 0.8220\n",
      "Epoch 9/9\n",
      "7982/7982 [==============================] - 2s 211us/step - loss: 0.1511 - accuracy: 0.9564 - val_loss: 0.9659 - val_accuracy: 0.8050\n",
      "2246/2246 [==============================] - 1s 269us/step\n"
     ]
    }
   ],
   "source": [
    "model = models.Sequential()\n",
    "model.add(layers.Dense(64, activation='relu', input_shape=(10000,)))\n",
    "model.add(layers.Dense(64, activation='relu'))\n",
    "model.add(layers.Dense(46, activation='softmax'))\n",
    "model.compile(optimizer='rmsprop',\n",
    "              loss='categorical_crossentropy',\n",
    "            metrics=['accuracy'])\n",
    "model.fit(partial_x_train,\n",
    "          partial_y_train,\n",
    "          epochs=9,\n",
    "          batch_size=512,\n",
    "          validation_data=(x_val, y_val))\n",
    "results = model.evaluate(x_test, one_hot_test_labels)"
   ]
  },
  {
   "cell_type": "code",
   "execution_count": null,
   "metadata": {},
   "outputs": [],
   "source": []
  },
  {
   "cell_type": "code",
   "execution_count": null,
   "metadata": {},
   "outputs": [],
   "source": []
  },
  {
   "cell_type": "code",
   "execution_count": null,
   "metadata": {},
   "outputs": [],
   "source": []
  },
  {
   "cell_type": "code",
   "execution_count": null,
   "metadata": {},
   "outputs": [],
   "source": []
  },
  {
   "cell_type": "code",
   "execution_count": null,
   "metadata": {},
   "outputs": [],
   "source": []
  },
  {
   "cell_type": "code",
   "execution_count": null,
   "metadata": {},
   "outputs": [],
   "source": []
  },
  {
   "cell_type": "code",
   "execution_count": null,
   "metadata": {},
   "outputs": [],
   "source": []
  },
  {
   "cell_type": "code",
   "execution_count": null,
   "metadata": {},
   "outputs": [],
   "source": []
  },
  {
   "cell_type": "code",
   "execution_count": null,
   "metadata": {},
   "outputs": [],
   "source": []
  },
  {
   "cell_type": "code",
   "execution_count": null,
   "metadata": {},
   "outputs": [],
   "source": []
  },
  {
   "cell_type": "code",
   "execution_count": null,
   "metadata": {},
   "outputs": [],
   "source": []
  },
  {
   "cell_type": "code",
   "execution_count": null,
   "metadata": {},
   "outputs": [],
   "source": []
  }
 ],
 "metadata": {
  "kernelspec": {
   "display_name": "Python 3",
   "language": "python",
   "name": "python3"
  },
  "language_info": {
   "codemirror_mode": {
    "name": "ipython",
    "version": 3
   },
   "file_extension": ".py",
   "mimetype": "text/x-python",
   "name": "python",
   "nbconvert_exporter": "python",
   "pygments_lexer": "ipython3",
   "version": "3.7.4"
  }
 },
 "nbformat": 4,
 "nbformat_minor": 2
}
